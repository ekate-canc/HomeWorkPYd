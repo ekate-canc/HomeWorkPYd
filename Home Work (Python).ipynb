{
 "cells": [
  {
   "cell_type": "markdown",
   "metadata": {},
   "source": [
    "# Домашнее задание по теме \"Основы Python\"\n"
   ]
  },
  {
   "cell_type": "markdown",
   "metadata": {},
   "source": [
    "**Задание 1**"
   ]
  },
  {
   "cell_type": "code",
   "execution_count": 2,
   "metadata": {},
   "outputs": [
    {
     "data": {
      "text/plain": [
       "True"
      ]
     },
     "execution_count": 2,
     "metadata": {},
     "output_type": "execute_result"
    }
   ],
   "source": [
    "len('Насколько проще было бы писать программы, если бы не заказчики')>len('640Кб должно хватить для любых задач. Билл Гейтс (по легенде)')"
   ]
  },
  {
   "cell_type": "code",
   "execution_count": 5,
   "metadata": {},
   "outputs": [
    {
     "name": "stdout",
     "output_type": "stream",
     "text": [
      "фраза 1 длиннее фразы 2\n"
     ]
    }
   ],
   "source": [
    "len('Насколько проще было бы писать программы, если бы не заказчики')>len('640Кб должно хватить для любых задач. Билл Гейтс (по легенде)')\n",
    "phrase_1 = 'Насколько проще было бы писать программы, если бы не заказчики'\n",
    "phrase_2 = '640Кб должно хватить для любых задач. Билл Гейтс (по легенде)'\n",
    "if phrase_1 > phrase_2:\n",
    "    print('фраза 1 длиннее фразы 2')   \n",
    "           "
   ]
  },
  {
   "cell_type": "code",
   "execution_count": 25,
   "metadata": {},
   "outputs": [
    {
     "name": "stdout",
     "output_type": "stream",
     "text": [
      "фраза 2 длиннее фразы 1\n"
     ]
    }
   ],
   "source": [
    "phrase_1 = '640Кб должно хватить для любых задач. Билл Гейтс (по легенде)'\n",
    "phrase_2 = 'Насколько проще было бы писать программы, если бы не заказчики'\n",
    "if phrase_2 > phrase_1:\n",
    "    print('фраза 2 длиннее фразы 1')"
   ]
  },
  {
   "cell_type": "code",
   "execution_count": 31,
   "metadata": {},
   "outputs": [
    {
     "name": "stdout",
     "output_type": "stream",
     "text": [
      "фразы равной длины\n"
     ]
    }
   ],
   "source": [
    "phrase_1 = 'Насколько проще было бы писать программы, если бы не заказчики'\n",
    "phrase_2 = 'Насколько проще было бы писать программы, если бы не заказчики'\n",
    "if phrase_1==phrase_2:\n",
    "    print('фразы равной длины')"
   ]
  },
  {
   "cell_type": "markdown",
   "metadata": {},
   "source": [
    "**Задание 2**"
   ]
  },
  {
   "cell_type": "code",
   "execution_count": 6,
   "metadata": {},
   "outputs": [
    {
     "name": "stdout",
     "output_type": "stream",
     "text": [
      "2020 -високосный год\n"
     ]
    }
   ],
   "source": [
    "x=2020\n",
    "if x%4==0:\n",
    "    print(x,'-високосный год')\n",
    "else:\n",
    "    print(x,'-обычный год')\n",
    "    "
   ]
  },
  {
   "cell_type": "code",
   "execution_count": 7,
   "metadata": {},
   "outputs": [
    {
     "name": "stdout",
     "output_type": "stream",
     "text": [
      "2019 -обычный год\n"
     ]
    }
   ],
   "source": [
    "x=2019\n",
    "if x%4==0:\n",
    "    print(x,'-високосный год')\n",
    "else: \n",
    "    print(x,'-обычный год')"
   ]
  },
  {
   "cell_type": "markdown",
   "metadata": {},
   "source": [
    "**Задание 3**"
   ]
  },
  {
   "cell_type": "code",
   "execution_count": 4,
   "metadata": {},
   "outputs": [
    {
     "name": "stdout",
     "output_type": "stream",
     "text": [
      "знак зодиака Дева\n"
     ]
    }
   ],
   "source": [
    "m = 'август' \n",
    "d = 30\n",
    "\n",
    "if m == 'март' and d >= 21: \n",
    "    print('знак зодиака Овен')\n",
    "elif m == 'март' and d < 21: \n",
    "    print('знак зодиака Рыбы')\n",
    "\n",
    "if m == 'апрель' and d >= 21:\n",
    "    print('знак зодиака Телец')\n",
    "elif m== 'апрель'and d < 21:\n",
    "    print('знак зодиака Овен')\n",
    "    \n",
    "if m == 'май' and d >= 22:\n",
    "    print('знак зодиака Близнецы')\n",
    "elif m == 'май' and d < 22:\n",
    "    print('знак зодиака Телец')\n",
    "    \n",
    "if m == 'июнь' and d >= 22:\n",
    "    print('знак зодиака Рак')\n",
    "elif m == 'июнь' and d < 22:\n",
    "    print('знак зодиака Близнецы')\n",
    "    \n",
    "if m == 'июль' and d >= 23:\n",
    "    print('знак зодиака Лев')\n",
    "elif m == 'июль' and d < 23:\n",
    "    print('знак зодиака Рак')\n",
    "    \n",
    "if m == 'август' and d >= 24:\n",
    "    print('знак зодиака Дева')\n",
    "elif m == 'август' and d < 24:\n",
    "    print('знак зодиака Лев')    \n",
    "    \n",
    "if m == 'сентябрь' and d >= 24: \n",
    "    print('знак зодиака Весы')\n",
    "elif m == 'сентябрь' and d < 24: \n",
    "    print('знак зодиака Дева')\n",
    "    \n",
    "if m == 'октябрь' and d >= 24: \n",
    "    print('знак зодиака Скорпион')\n",
    "elif m == 'октябрь' and d < 24: \n",
    "    print('знак зодиака Весы')\n",
    "    \n",
    "if m == 'ноябрь' and d >= 23: \n",
    "    print('знак зодиака Стрелец')\n",
    "elif m == 'ноябрь' and d < 23: \n",
    "    print('знак зодиака Скорпион')\n",
    "    \n",
    "if m == 'декабрь' and d >= 22: \n",
    "    print('знак зодиака Козерог')\n",
    "elif m == 'декабрь' and d < 22: \n",
    "    print('знак зодиака Стрелец')\n",
    "    \n",
    "if m == 'январь' and d >= 21: \n",
    "    print('знак зодиака Водолей')\n",
    "elif m == 'январь' and d < 21: \n",
    "    print('знак зодиака Стрелец')    \n",
    "    \n",
    "if m == 'февраль' and d >= 19: \n",
    "    print('знак зодиака Рыбы')\n",
    "elif m == 'февраль' and d < 19: \n",
    "    print('знак зодиака Водолей')      \n",
    "        \n",
    "    "
   ]
  },
  {
   "cell_type": "code",
   "execution_count": 5,
   "metadata": {},
   "outputs": [
    {
     "name": "stdout",
     "output_type": "stream",
     "text": [
      "знак зодиака Скорпион\n"
     ]
    }
   ],
   "source": [
    "m = 'октябрь'\n",
    "d = 26\n",
    "\n",
    "if m == 'март' and d >= 21: \n",
    "    print('знак зодиака Овен')\n",
    "elif m == 'март' and d < 21: \n",
    "    print('знак зодиака Рыбы')\n",
    "\n",
    "if m == 'апрель' and d >= 21:\n",
    "    print('знак зодиака Телец')\n",
    "elif m== 'апрель'and d < 21:\n",
    "    print('знак зодиака Овен')\n",
    "    \n",
    "if m == 'май' and d >= 22:\n",
    "    print('знак зодиака Близнецы')\n",
    "elif m == 'май' and d < 22:\n",
    "    print('знак зодиака Телец')\n",
    "    \n",
    "if m == 'июнь' and d >= 22:\n",
    "    print('знак зодиака Рак')\n",
    "elif m == 'июнь' and d < 22:\n",
    "    print('знак зодиака Близнецы')\n",
    "    \n",
    "if m == 'июль' and d >= 23:\n",
    "    print('знак зодиака Лев')\n",
    "elif m == 'июль' and d < 23:\n",
    "    print('знак зодиака Рак')\n",
    "    \n",
    "if m == 'август' and d >= 24:\n",
    "    print('знак зодиака Дева')\n",
    "elif m == 'август' and d < 24:\n",
    "    print('знак зодиака Лев')    \n",
    "    \n",
    "if m == 'сентябрь' and d >= 24: \n",
    "    print('знак зодиака Весы')\n",
    "elif m == 'сентябрь' and d < 24: \n",
    "    print('знак зодиака Дева')\n",
    "    \n",
    "if m == 'октябрь' and d >= 24: \n",
    "    print('знак зодиака Скорпион')\n",
    "elif m == 'октябрь' and d < 24: \n",
    "    print('знак зодиака Весы')\n",
    "    \n",
    "if m == 'ноябрь' and d >= 23: \n",
    "    print('знак зодиака Стрелец')\n",
    "elif m == 'ноябрь' and d < 23: \n",
    "    print('знак зодиака Скорпион')\n",
    "    \n",
    "if m == 'декабрь' and d >= 22: \n",
    "    print('знак зодиака Козерог')\n",
    "elif m == 'декабрь' and d < 22: \n",
    "    print('знак зодиака Стрелец')\n",
    "    \n",
    "if m == 'январь' and d >= 21: \n",
    "    print('знак зодиака Водолей')\n",
    "elif m == 'январь' and d < 21: \n",
    "    print('знак зодиака Стрелец')    \n",
    "    \n",
    "if m == 'февраль' and d >= 19: \n",
    "    print('знак зодиака Рыбы')\n",
    "elif m == 'февраль' and d < 19: \n",
    "    print('знак зодиака Водолей')      \n",
    "        "
   ]
  },
  {
   "cell_type": "markdown",
   "metadata": {},
   "source": [
    "**Задание 4**"
   ]
  },
  {
   "cell_type": "code",
   "execution_count": 3,
   "metadata": {},
   "outputs": [
    {
     "name": "stdout",
     "output_type": "stream",
     "text": [
      "Упаковка для лыж\n",
      "конец программы\n"
     ]
    }
   ],
   "source": [
    "width = 10\n",
    "length = 205\n",
    "height = 5\n",
    "if 15 < width < 50 or 15 < length < 50 or 15 < height < 50:\n",
    "    print(width,length,height)\n",
    "    print('Коробка №2')\n",
    "elif width < 15 and length < 15 and heigh < 15:\n",
    "    print('Коробка №1')\n",
    "elif length > 200:\n",
    "    print('Упаковка для лыж')\n",
    "else:\n",
    "    print('Стандартная коробка №3')\n",
    "print('конец программы')    \n",
    "    "
   ]
  },
  {
   "cell_type": "code",
   "execution_count": null,
   "metadata": {},
   "outputs": [],
   "source": []
  },
  {
   "cell_type": "code",
   "execution_count": null,
   "metadata": {},
   "outputs": [],
   "source": [
    "\n",
    "\n"
   ]
  }
 ],
 "metadata": {
  "kernelspec": {
   "display_name": "Python 3",
   "language": "python",
   "name": "python3"
  },
  "language_info": {
   "codemirror_mode": {
    "name": "ipython",
    "version": 3
   },
   "file_extension": ".py",
   "mimetype": "text/x-python",
   "name": "python",
   "nbconvert_exporter": "python",
   "pygments_lexer": "ipython3",
   "version": "3.9.0"
  }
 },
 "nbformat": 4,
 "nbformat_minor": 4
}
